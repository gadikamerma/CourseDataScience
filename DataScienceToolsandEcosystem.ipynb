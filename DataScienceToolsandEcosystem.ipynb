{
 "cells": [
  {
   "cell_type": "markdown",
   "id": "35ca38c4-7829-40ee-bd03-e879943a3273",
   "metadata": {},
   "source": [
    "# Data Science Tools and Ecosystem"
   ]
  },
  {
   "cell_type": "markdown",
   "id": "be73069d-9b20-4c08-ae1c-80997bc8a0db",
   "metadata": {},
   "source": [
    "In this notebook, Data Science Tools and Ecosystem are summarized."
   ]
  },
  {
   "cell_type": "markdown",
   "id": "64c869c2-2b3a-4bcc-a5ff-ed0445a4b071",
   "metadata": {
    "tags": []
   },
   "source": [
    "Some of the popular languages that Data Scientists use are:\n",
    "1. Python\n",
    "2. R\n",
    "3. SQL\n"
   ]
  },
  {
   "cell_type": "markdown",
   "id": "b15fee96-6b32-43ec-9199-fa6427da054d",
   "metadata": {},
   "source": [
    "Some of the commonly used libraries used by Data Scientists include:\n",
    "1. ggplot\n",
    "2. dplyer\n",
    "3. caret\n",
    "4. more"
   ]
  },
  {
   "cell_type": "markdown",
   "id": "6df8bcc7-30cb-43a3-970a-731969570f13",
   "metadata": {},
   "source": [
    "Data Science Tools:\n",
    "\n",
    "| tool | language |\n",
    "| -------------| ------ |\n",
    "| Rstudio | R |\n",
    "| GitHub | git |\n",
    "| Jupyter | python(default kernel) |"
   ]
  },
  {
   "cell_type": "markdown",
   "id": "6e1967d9-21ce-41a5-87d7-cac537e74460",
   "metadata": {},
   "source": [
    "Below are a few examples of evaluating arithmetic expressions in Python."
   ]
  },
  {
   "cell_type": "code",
   "execution_count": 13,
   "id": "6c3820fe-830e-434b-8ee2-1eed75c19514",
   "metadata": {
    "tags": []
   },
   "outputs": [
    {
     "data": {
      "text/plain": [
       "17"
      ]
     },
     "execution_count": 13,
     "metadata": {},
     "output_type": "execute_result"
    }
   ],
   "source": [
    "(3*4)+5\n",
    "#This a simple arithmetic expression to mutiply then add integers"
   ]
  },
  {
   "cell_type": "code",
   "execution_count": 14,
   "id": "53687f55-69a7-4354-92c3-c84cb9bc010b",
   "metadata": {
    "tags": []
   },
   "outputs": [
    {
     "name": "stdout",
     "output_type": "stream",
     "text": [
      "3.3333333333333335\n"
     ]
    }
   ],
   "source": [
    "#This will convert 200 minutes to hours by diving by 60\n",
    "Time=200/60\n",
    "print(Time)"
   ]
  },
  {
   "cell_type": "markdown",
   "id": "0c4ecc10-2d8e-4cc9-ac93-89c45f133aa8",
   "metadata": {},
   "source": [
    "Objectives:\n",
    "* List popular languages of data science\n",
    "* List data science tool\n",
    "* List Data science libraries"
   ]
  },
  {
   "cell_type": "markdown",
   "id": "36f620b1-d148-4ee2-9fd7-01954cea9702",
   "metadata": {},
   "source": [
    "## Author: Gadi"
   ]
  }
 ],
 "metadata": {
  "kernelspec": {
   "display_name": "Python",
   "language": "python",
   "name": "conda-env-python-py"
  },
  "language_info": {
   "codemirror_mode": {
    "name": "ipython",
    "version": 3
   },
   "file_extension": ".py",
   "mimetype": "text/x-python",
   "name": "python",
   "nbconvert_exporter": "python",
   "pygments_lexer": "ipython3",
   "version": "3.7.12"
  }
 },
 "nbformat": 4,
 "nbformat_minor": 5
}
